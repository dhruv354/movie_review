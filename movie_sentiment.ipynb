{
  "nbformat": 4,
  "nbformat_minor": 0,
  "metadata": {
    "colab": {
      "name": "Untitled14.ipynb",
      "provenance": [],
      "authorship_tag": "ABX9TyP8qdtyhLUhsiXMpBSBRxW3",
      "include_colab_link": true
    },
    "kernelspec": {
      "name": "python3",
      "display_name": "Python 3"
    },
    "language_info": {
      "name": "python"
    },
    "accelerator": "GPU"
  },
  "cells": [
    {
      "cell_type": "markdown",
      "metadata": {
        "id": "view-in-github",
        "colab_type": "text"
      },
      "source": [
        "<a href=\"https://colab.research.google.com/github/dhruv354/movie_review/blob/main/movie_sentiment.ipynb\" target=\"_parent\"><img src=\"https://colab.research.google.com/assets/colab-badge.svg\" alt=\"Open In Colab\"/></a>"
      ]
    },
    {
      "cell_type": "markdown",
      "metadata": {
        "id": "jvOMUaeOxswn"
      },
      "source": [
        "## IMDB dataset for predicting movie reviews"
      ]
    },
    {
      "cell_type": "code",
      "metadata": {
        "id": "ow1VmENf8eQY"
      },
      "source": [
        "import tensorflow as tf\n",
        "from tensorflow import keras\n",
        "from tensorflow.keras import layers\n",
        "from tensorflow.keras import losses\n",
        "import os\n",
        "import re\n",
        "import matplotlib.pyplot as  plt"
      ],
      "execution_count": 1,
      "outputs": []
    },
    {
      "cell_type": "code",
      "metadata": {
        "id": "yw6uOC_L8gqJ"
      },
      "source": [
        ""
      ],
      "execution_count": 1,
      "outputs": []
    },
    {
      "cell_type": "code",
      "metadata": {
        "id": "lQp8Vqwpx57t"
      },
      "source": [
        "url = \"https://ai.stanford.edu/~amaas/data/sentiment/aclImdb_v1.tar.gz\"\n",
        "dataset = tf.keras.utils.get_file(fname='aclImdb', untar=True, origin=url, \n",
        "                                  cache_dir='.',  cache_subdir='')"
      ],
      "execution_count": 2,
      "outputs": []
    },
    {
      "cell_type": "markdown",
      "metadata": {
        "id": "biSK3aD28iAY"
      },
      "source": [
        "# understanding directory structure and downloading dataset"
      ]
    },
    {
      "cell_type": "code",
      "metadata": {
        "colab": {
          "base_uri": "https://localhost:8080/"
        },
        "id": "YTG31ZO9yiYr",
        "outputId": "8ceea84c-dbc9-4baa-82a4-deb02ec95002"
      },
      "source": [
        "!ls\n"
      ],
      "execution_count": 3,
      "outputs": [
        {
          "output_type": "stream",
          "text": [
            "aclImdb  aclImdb.tar.gz  movie_imdb.tar.gz  sample_data\n"
          ],
          "name": "stdout"
        }
      ]
    },
    {
      "cell_type": "code",
      "metadata": {
        "colab": {
          "base_uri": "https://localhost:8080/"
        },
        "id": "YFT7tYs27QGe",
        "outputId": "b5a9cff0-5b2d-4503-d593-dcda6274e4f8"
      },
      "source": [
        "dataset_dir = os.path.join('/content', 'aclImdb')\n",
        "os.listdir(path=dataset_dir)"
      ],
      "execution_count": 4,
      "outputs": [
        {
          "output_type": "execute_result",
          "data": {
            "text/plain": [
              "['test', 'imdb.vocab', 'README', 'imdbEr.txt', 'train']"
            ]
          },
          "metadata": {
            "tags": []
          },
          "execution_count": 4
        }
      ]
    },
    {
      "cell_type": "code",
      "metadata": {
        "colab": {
          "base_uri": "https://localhost:8080/"
        },
        "id": "nfyuCmXV71JY",
        "outputId": "117ce318-3801-4b5d-aedc-d020052035a3"
      },
      "source": [
        "#train and test directory\n",
        "train_dir = os.path.join(dataset_dir, 'train')\n",
        "test_dir = os.path.join(dataset_dir, 'test')\n",
        "os.listdir(path=train_dir)\n",
        "#pos and neg contains individual postive and negative movie review respectively"
      ],
      "execution_count": 5,
      "outputs": [
        {
          "output_type": "execute_result",
          "data": {
            "text/plain": [
              "['neg',\n",
              " 'urls_unsup.txt',\n",
              " 'urls_neg.txt',\n",
              " 'labeledBow.feat',\n",
              " 'unsupBow.feat',\n",
              " 'urls_pos.txt',\n",
              " 'pos']"
            ]
          },
          "metadata": {
            "tags": []
          },
          "execution_count": 5
        }
      ]
    },
    {
      "cell_type": "code",
      "metadata": {
        "colab": {
          "base_uri": "https://localhost:8080/"
        },
        "id": "q9BxeUHr81-F",
        "outputId": "929d1706-c08b-4155-bfac-29f25460ac0b"
      },
      "source": [
        "#see random sample file of postive movie review\n",
        "sample_file = os.path.join(train_dir, 'pos/0_9.txt')\n",
        "with open(sample_file) as f:\n",
        "  print(f.read())"
      ],
      "execution_count": 6,
      "outputs": [
        {
          "output_type": "stream",
          "text": [
            "Bromwell High is a cartoon comedy. It ran at the same time as some other programs about school life, such as \"Teachers\". My 35 years in the teaching profession lead me to believe that Bromwell High's satire is much closer to reality than is \"Teachers\". The scramble to survive financially, the insightful students who can see right through their pathetic teachers' pomp, the pettiness of the whole situation, all remind me of the schools I knew and their students. When I saw the episode in which a student repeatedly tried to burn down the school, I immediately recalled ......... at .......... High. A classic line: INSPECTOR: I'm here to sack one of your teachers. STUDENT: Welcome to Bromwell High. I expect that many adults of my age think that Bromwell High is far fetched. What a pity that it isn't!\n"
          ],
          "name": "stdout"
        }
      ]
    },
    {
      "cell_type": "code",
      "metadata": {
        "id": "o8A31t2N9nIt"
      },
      "source": [
        "''' \n",
        "we will be using ***text_dataset_from_directory**** method\n",
        "which expects a directory structure like this\n",
        "\n",
        "main_directory/\n",
        "...class_a/\n",
        "......a_text_1.txt\n",
        "......a_text_2.txt\n",
        "...class_b/\n",
        "......b_text_1.txt\n",
        "......b_text_2.txt\n",
        "\n",
        "so will be removing unsup folder\n",
        "'''\n",
        "\n",
        "import shutil\n",
        "# shutil.rmtree(os.path.join(train_dir, 'unsup'))\n"
      ],
      "execution_count": 7,
      "outputs": []
    },
    {
      "cell_type": "code",
      "metadata": {
        "id": "wli9ULNxYEkR"
      },
      "source": [
        ""
      ],
      "execution_count": null,
      "outputs": []
    },
    {
      "cell_type": "code",
      "metadata": {
        "id": "NlEJCDAtYGfJ"
      },
      "source": [
        ""
      ],
      "execution_count": null,
      "outputs": []
    },
    {
      "cell_type": "code",
      "metadata": {
        "colab": {
          "base_uri": "https://localhost:8080/"
        },
        "id": "MfYElYSK_JCO",
        "outputId": "e9b1a626-de4e-4ce0-8528-d3b7a913e57a"
      },
      "source": [
        "os.listdir(train_dir)\n",
        "#other are just files so now we can prepare our training dataset"
      ],
      "execution_count": 8,
      "outputs": [
        {
          "output_type": "execute_result",
          "data": {
            "text/plain": [
              "['neg',\n",
              " 'urls_unsup.txt',\n",
              " 'urls_neg.txt',\n",
              " 'labeledBow.feat',\n",
              " 'unsupBow.feat',\n",
              " 'urls_pos.txt',\n",
              " 'pos']"
            ]
          },
          "metadata": {
            "tags": []
          },
          "execution_count": 8
        }
      ]
    },
    {
      "cell_type": "code",
      "metadata": {
        "colab": {
          "base_uri": "https://localhost:8080/"
        },
        "id": "umGk9QCj_VVB",
        "outputId": "148699b7-2dd1-438c-924a-4eab8d324eb0"
      },
      "source": [
        "\n",
        "batch_size=32\n",
        "seed = 0\n",
        "train_ds = tf.keras.preprocessing.text_dataset_from_directory(\n",
        "    directory=train_dir,\n",
        "    batch_size=batch_size,\n",
        "    validation_split=0.2,\n",
        "    seed=seed,\n",
        "    subset='training')"
      ],
      "execution_count": 9,
      "outputs": [
        {
          "output_type": "stream",
          "text": [
            "Found 25000 files belonging to 2 classes.\n",
            "Using 20000 files for training.\n"
          ],
          "name": "stdout"
        }
      ]
    },
    {
      "cell_type": "code",
      "metadata": {
        "colab": {
          "base_uri": "https://localhost:8080/"
        },
        "id": "dwtyDNo4AQOP",
        "outputId": "36d0a772-6e8b-4f54-b96f-fbceb8eae204"
      },
      "source": [
        "#now we will be using train_ds.take() method which\n",
        "#provides data in batches according to batch size\n",
        "\n",
        "for text_batch, label_batch in train_ds.take(1): # 1 refers to  only one batch which is 32 in this case\n",
        "  #lets see first 5 sentences \n",
        "  for i in range(5):\n",
        "    print(text_batch[i].numpy(), f'label: {label_batch[i].numpy()}', sep='\\n')\n",
        "    print('******')\n",
        "\n",
        "print('************')\n",
        "# class_names = ['neg', 'pos']\n",
        "print(\"Label 0 corresponds to\", train_ds.class_names[0])\n",
        "print(\"Label 1 corresponds to\", train_ds.class_names[1])\n"
      ],
      "execution_count": 10,
      "outputs": [
        {
          "output_type": "stream",
          "text": [
            "b\"Violence whether real or not always has an impact. In this film the violence is about as crass as you could ask for. In the Great Ecstacy the director has successfully demonstrated what extremes of violence people are capable of. But what was the point? The violence looks like a mix of No\\xc3\\xab's 'Irreversible, and ' Kubrick's 'Clockwork Orange'...both of which are remarkable films. Don't get me wrong, I'm not opposed to screen violence at all and I've seen some nasty stuff in my film-going years, but this film as a whole is totally juvenile. The story is never developed enough to offer any reason for the extreme violence, the rizla paper thin reason we are give for Robert's demise is his introduction to drugs. Danny Dyer plays the character who is partly responsible for Robert's drug fuelled demise, however he is on screen for less than 5 minutes. Lesley Manville is Robert's unable to cope mum, I am not sure what either of these actors is doing in a film of this low caliber. The acting is wooden, the scene in the kitchen with the TV-cook and his wife for instance is as painful to watch if not more so than the shocking finale- who wrote those dialogues?! Some of the comments the boys make...'looks like she's enjoying it' are so trite as to tempt one to laugh if it were not for Clay's ardent desire to bombard us with harrowing images of mutilated female genitals. Why we need to be shown such detail possibly down to the director's adolescent obsession with sadistic pornographic imagery...one can only wonder at this young man's psychology.<br /><br />The 'political meaning' of the film was repeatedly brought to our attention due to the amount of scenes; in the bar, outside the TV-cook's house, war in Iraq reports, was perhaps too obvious in my opinion. Yes, war is violent, social determinism causes frustration, we're all prone to horrifingly violent acts whether you're in politics or on the street popping E. Juxtaposing all these things as part of the same underlying issue is evading the actual issue which is the meaning of violence in man. This issue is one that we still haven't managed to grasp and certainly not in this film.<br /><br />My opinion: derivative, badly-made and pointless.\"\n",
            "label: 0\n",
            "******\n",
            "b'In 1993, \"the visitors\" was an enormous hit in France. So, the sequence was inevitable and unfortunately, this sequence ranks among the worst ones ever made. <br /><br />This is a movie that doesn\\'t keep its promises. Indeed, it\\'s supposed to tell a sole story. Jean Reno must go in the twentieth century and take Christian Clavier back in the Middle Ages so that time can normally follow its course. The problem is that Clavier feels completely at ease in the world of the twentieth century, and so make him get back in the Middles Ages is rather hard... Instead of this, the movie goes on several other stories without succeeding in following the main plot. As a consequence, the movie becomes sometimes muddle-headed, sometimes a bit of a mess.<br /><br />But the movie also suffers from the performance of nearly all the actors. Reno and Clavier fall into the trap that however they could avoid in the first movie: they\\'re going over the top and become annoying. Then, why did Jean-Marie Poir\\xc3\\xa9 the film-maker engage Muriel Robin in the female main role? He made a mistake because she seems ill-at-ease and is absolutely pitiful. The other actors aren\\'t better: Marie-Anne Chazel is nonexistent and Christian Bujeau, unbearable.<br /><br /> Of course, the movie contains a few good moments with efficient gags but it often falls into vulgarity and easiness. Certain sequences and dialogs are affected. It also appears hollow because Poir\\xc3\\xa9 takes back elements that secured the success of the first movie. Thus, a young girl takes Reno for a close relative of her family and asks him to take part in her wedding.<br /><br />A labored and disappointing follow-up. Anyway, what\\'s the interest of this movie otherwise commercial?<br /><br />'\n",
            "label: 0\n",
            "******\n",
            "b\"This movie gets both a 6/10 rating from me, as well as a 9/10. Here is why: As a standard horror movie for the standard horror crowd, where action and gore and scares are taken into consideration, this movie WILL bore you. It's basically a family drama similar to what you'd see on the Lifetime channel, but put in a horror universe. The story and formula are age-old, retreaded hundreds of times. If you're looking for any originality in the plot structure or the minimal conflicts, you'll be disappointed. Take away the zombies and you'll have something just as melodramatic as A Beautiful Mind, tripping on cheese. This is the 6/10.<br /><br />However, the basic synopsis and idea is pretty original and over-the-top. It's literally something you and your friends would joke about when you're half-drunk . . . but that joke actually got a theatrical release. The idea gets a 9/10 from me. The only reason it isn't perfect is because they could have taken it even further, but they didn't.<br /><br />The mix of both is mixed. I thought it was funny, but as with most all comedies, it wasn't THAT funny. I had my mom and little sister watch it with me and the jokes we made about it were funnier than the jokes scripted. There were moments of utter genius, but there were also moments of pure boredom.<br /><br />I sincerely hope that other movies take this kind of over-the-top risk and original ideas. I just can't say it was perfect, or even near it, because of the lack of originality to the plot.<br /><br />A GREAT family movie. A great movie to watch with a bunch of guys (or girls). A great movie to watch with anyone . . . but if you watch it alone, it will be a bit boring. Other people always make this kind of movie funnier and richer.<br /><br />4/10\"\n",
            "label: 0\n",
            "******\n",
            "b\"I swear I could watch this movie every weekend of my life and never get sick of it! Every aspect of human emotion is captured so magically by the acting, the script, the direction, and the general feeling of this movie. It's been a long time since I saw a movie that actually made me choke from laughter, reflect from sadness, and feel each intended feeling that comes through in this most excellent work! We need MORE MOVIES like this!!! Mike Binder: are you listening???\"\n",
            "label: 1\n",
            "******\n",
            "b\"Hammerhead is a combination between the mad scientist and killer shark movie genres. In a bit of type-casting, Jeffrey Combs plays the aforementioned mad scientist who develops a human/hammerhead shark creature. Bizarrely, this being is in fact his son, who he has turned into this monster to prevent him dying from cancer. Or something.<br /><br />A group of associates are invited to the scientist's private island. They end up being used as shark bait or shark mate. For some unknown reason the head of IT has been brought along as part of this team. Who knows why? Luckily, he turns out to be a resourceful, if somewhat overweight, Ramboesque hero. I'm working on the assumption that he learnt how to handle an assault rifle as part of his day job working in 1st line support. A normal day for this IT man presumably involves fixing someone's network connection followed by a call to gun down gun-toting evil-doers. Or perhaps a call to fix someone's PC has to be scheduled between physical confrontations with land-based human-shark hybrids? Anyway, he's amazing and saves the day. He even get's the girl.<br /><br />The shark-man is a slightly lame creation but OK, I guess, judging by the effects in general in this film. And the movie moves on at a decent pace. It's complete hokum of course but if you buy a movie called Hammerhead and expect it to be a complex drama about the emotional conflicts experienced by a man turned into a land-based killer fish, then really you have no one to blame but yourself. As it is, there are guns, gore, girls and possibly even an exploding helicopter. It's rubbish but not as bad as some might say.\"\n",
            "label: 0\n",
            "******\n",
            "************\n",
            "Label 0 corresponds to neg\n",
            "Label 1 corresponds to pos\n"
          ],
          "name": "stdout"
        }
      ]
    },
    {
      "cell_type": "code",
      "metadata": {
        "id": "KHEUBXliBsTK"
      },
      "source": [
        "import string\n",
        "#custom function to perform text standardisation\n",
        "#as stopwords , punctuations and html elements are of no use\n",
        "\n",
        "#tensorflow has a method of string to habdle string data\n",
        "def text_standardization(input_data):\n",
        "  lowercase_input = tf.strings.lower(input_data)\n",
        "  stripped_html = tf.strings.regex_replace(lowercase_input, '<br />', ' ')\n",
        "  return tf.strings.regex_replace(stripped_html,\n",
        "                                  '[%s]' % re.escape(string.punctuation),\n",
        "                                  '')\n",
        "\n"
      ],
      "execution_count": 11,
      "outputs": []
    },
    {
      "cell_type": "code",
      "metadata": {
        "id": "FZpnmXoPF-95"
      },
      "source": [
        "# print('%s' % 'xyz')"
      ],
      "execution_count": 12,
      "outputs": []
    },
    {
      "cell_type": "code",
      "metadata": {
        "id": "A4MOFpTKGahn"
      },
      "source": [
        "from tensorflow.keras.layers.experimental.preprocessing import TextVectorization\n",
        "#it will generate sequences from text data and also do necessary preprcessing of\n",
        "#by converting words into numbers just like indexes of words in dictionary \n",
        "#it will take care of padding implicitly we will have to provide some of the parameters\n",
        "\n",
        "\n",
        "max_features = 10000 #maximum vocab  size\n",
        "sequence_length = 250 #sequence length maximum shorter one will be padded\n",
        "\n",
        "vectorize_layer = TextVectorization(\n",
        "    standardize=text_standardization, #function to do necessary preprocessing to text \n",
        "    max_tokens=max_features, \n",
        "    output_mode='int', #integer indexes\n",
        "    output_sequence_length=sequence_length)\n",
        "\n",
        "#extract text data from train_ds to feed into vectorize layer\n",
        "train_text = train_ds.map(lambda x, y: x)\n",
        "vectorize_layer.adapt(train_text)#just like fit method"
      ],
      "execution_count": 13,
      "outputs": []
    },
    {
      "cell_type": "code",
      "metadata": {
        "id": "txT6isM_Ol2v"
      },
      "source": [
        "import numpy as np\n",
        "x = np.array(next(iter(train_text)))"
      ],
      "execution_count": 14,
      "outputs": []
    },
    {
      "cell_type": "code",
      "metadata": {
        "id": "aufXDczaPlMJ"
      },
      "source": [
        ""
      ],
      "execution_count": 14,
      "outputs": []
    },
    {
      "cell_type": "code",
      "metadata": {
        "colab": {
          "base_uri": "https://localhost:8080/"
        },
        "id": "pGR0pt_UOvPx",
        "outputId": "bdb07186-f354-4afa-edda-6c6bb8afe7ac"
      },
      "source": [
        "x.shape"
      ],
      "execution_count": 15,
      "outputs": [
        {
          "output_type": "execute_result",
          "data": {
            "text/plain": [
              "(32,)"
            ]
          },
          "metadata": {
            "tags": []
          },
          "execution_count": 15
        }
      ]
    },
    {
      "cell_type": "code",
      "metadata": {
        "colab": {
          "base_uri": "https://localhost:8080/"
        },
        "id": "6IxG0nnbOyWE",
        "outputId": "e4103bdb-7688-4394-dcda-0cf3cc3d64ef"
      },
      "source": [
        "train_text"
      ],
      "execution_count": 16,
      "outputs": [
        {
          "output_type": "execute_result",
          "data": {
            "text/plain": [
              "<MapDataset shapes: (None,), types: tf.string>"
            ]
          },
          "metadata": {
            "tags": []
          },
          "execution_count": 16
        }
      ]
    },
    {
      "cell_type": "code",
      "metadata": {
        "id": "bu3Ui4kKLWwX"
      },
      "source": [
        "# next(iter(train_text))\n",
        "# print(string.punctuation)\n",
        "sample_text = next(iter(train_text))[0]\n"
      ],
      "execution_count": 17,
      "outputs": []
    },
    {
      "cell_type": "code",
      "metadata": {
        "colab": {
          "base_uri": "https://localhost:8080/"
        },
        "id": "ewikPhC_MuJX",
        "outputId": "e426beed-17c5-42a7-e149-a9994812c8dd"
      },
      "source": [
        "type(sample_text)"
      ],
      "execution_count": 18,
      "outputs": [
        {
          "output_type": "execute_result",
          "data": {
            "text/plain": [
              "tensorflow.python.framework.ops.EagerTensor"
            ]
          },
          "metadata": {
            "tags": []
          },
          "execution_count": 18
        }
      ]
    },
    {
      "cell_type": "code",
      "metadata": {
        "colab": {
          "base_uri": "https://localhost:8080/"
        },
        "id": "lsKKabH6Ltkt",
        "outputId": "5786bdbd-48b7-4f30-c1e2-3adb6bb40797"
      },
      "source": [
        "text, label = next(iter(train_ds.take(1)))\n",
        "print(text.numpy().shape)"
      ],
      "execution_count": 19,
      "outputs": [
        {
          "output_type": "stream",
          "text": [
            "(32,)\n"
          ],
          "name": "stdout"
        }
      ]
    },
    {
      "cell_type": "code",
      "metadata": {
        "id": "FF1Q8LF9OLsh"
      },
      "source": [
        "def vectorize_text(text, label):\n",
        "  text = tf.expand_dims(text, -1)\n",
        "  return vectorize_layer(text), label"
      ],
      "execution_count": 20,
      "outputs": []
    },
    {
      "cell_type": "code",
      "metadata": {
        "colab": {
          "base_uri": "https://localhost:8080/"
        },
        "id": "dYKdLSKtNvD5",
        "outputId": "597eb374-7963-4f5a-afcd-1cd25a6d487b"
      },
      "source": [
        "text_batch, label_batch = next(iter(train_ds))\n",
        "first_review, first_label = text_batch[0], label_batch[0]\n",
        "print(\"Review\", first_review)\n",
        "print(\"Label\", train_ds.class_names[first_label])\n",
        "print(\"Vectorized review\", vectorize_text(first_review, label_batch))"
      ],
      "execution_count": 21,
      "outputs": [
        {
          "output_type": "stream",
          "text": [
            "Review tf.Tensor(b'Ivan Reitman is something of a savior. The most tired plots (Ghostbusters, Evolution) come to life in his skilled hands. Even his occasional flop (Six Days, Seven Nights) show signs of life and humor that make it worth viewing. So I was disappointed that Reitman could not take a fairly original plot (man dumps superhero, superhero gets superpower-fueled revenge), and shape it into something enjoyable. \"Girlfriend\" is an exercise in pointlessness. The one-trick pony plot is long in the tooth after the first 20 minutes. The film can\\'t decide whether to be romantic comedy or superhero drama. The result is a film the flip-flops between both, with neither aspect being very well done. Uma Thurman is tops, as usual, and Luke Wilson pulls off his role too, though his slacker antics quickly grow tired. What\\'s even more maddening is that, in certain scenes (such as when a very turned on Uma knocks a headboard through a wall), you sense a witty, raucous Reitman opus practically screaming to get out. But seconds later, the magic is lost, gone as quick as the superheroine whose movies disappoints in almost every way.', shape=(), dtype=string)\n",
            "Label neg\n",
            "Vectorized review (<tf.Tensor: shape=(1, 250), dtype=int64, numpy=\n",
            "array([[9849,    1,    7,  138,    5,    4,    1,    2,   88, 1336, 1955,\n",
            "           1, 6448,  208,    6,  117,    8,   23, 6817,  905,   54,   23,\n",
            "        2478, 4289, 1587,  491, 1561, 3258,  119, 3910,    5,  117,    3,\n",
            "         476,   12,   97,    9,  283,  813,   37,   11,   13,  660,   12,\n",
            "           1,   96,   21,  188,    4,  983,  192,  113,  133,    1, 3642,\n",
            "        3642,  203,    1, 1083,    3, 3151,    9,   79,  138,  726, 1035,\n",
            "           7,   33, 3391,    8,    1,    2,    1,    1,  113,    7,  206,\n",
            "           8,    2, 5891,  100,    2,   85,  960,  229,    2,   19,  174,\n",
            "        1133,  704,    6,   27,  707,  218,   41, 3642,  475,    2,  912,\n",
            "           7,    4,   19,    2,    1,  190,  191,   16, 1025, 1213,  108,\n",
            "          52,   73,  222, 6483, 6802,    7, 6179,   14,  617,    3, 2169,\n",
            "        2709, 2498,  125,   23,  209,   98,  150,   23,    1, 3866,  901,\n",
            "        2329, 1336,  694,   54,   51,    1,    7,   12,    8,  780,  134,\n",
            "         136,   14,   50,    4,   52,  674,   20, 6483, 6737,    4,    1,\n",
            "         140,    4, 1534,   22,  271,    4, 1906,    1,    1, 9806, 2088,\n",
            "        1863,    6,   75,   45,   18, 1480,  297,    2, 1191,    7,  410,\n",
            "         815,   14, 1568,   14,    2,    1,  615,   92, 8526,    8,  212,\n",
            "         170,   95,    0,    0,    0,    0,    0,    0,    0,    0,    0,\n",
            "           0,    0,    0,    0,    0,    0,    0,    0,    0,    0,    0,\n",
            "           0,    0,    0,    0,    0,    0,    0,    0,    0,    0,    0,\n",
            "           0,    0,    0,    0,    0,    0,    0,    0,    0,    0,    0,\n",
            "           0,    0,    0,    0,    0,    0,    0,    0,    0,    0,    0,\n",
            "           0,    0,    0,    0,    0,    0,    0,    0]])>, <tf.Tensor: shape=(32,), dtype=int32, numpy=\n",
            "array([0, 0, 0, 1, 1, 1, 1, 1, 0, 1, 0, 0, 1, 1, 0, 1, 1, 1, 0, 1, 1, 0,\n",
            "       1, 0, 0, 1, 1, 1, 0, 1, 1, 1], dtype=int32)>)\n"
          ],
          "name": "stdout"
        }
      ]
    },
    {
      "cell_type": "code",
      "metadata": {
        "id": "2x3APVkTPmcm"
      },
      "source": [
        "# x = np.array([1, 2, 3, 4])\n",
        "# x = np.expand_dims(x, -1)\n",
        "# x\n"
      ],
      "execution_count": 22,
      "outputs": []
    },
    {
      "cell_type": "code",
      "metadata": {
        "colab": {
          "base_uri": "https://localhost:8080/"
        },
        "id": "GO_HGfSFTiDZ",
        "outputId": "246fb6cc-5da0-4a20-c15a-30fb6941be72"
      },
      "source": [
        "#validation dataset\n",
        "\n",
        "val_ds = tf.keras.preprocessing.text_dataset_from_directory(\n",
        "    'aclImdb/train', \n",
        "    batch_size=batch_size, \n",
        "    validation_split=0.2, \n",
        "    subset='validation', \n",
        "    seed=seed)\n",
        "\n",
        "#test dataset\n",
        "test_ds = tf.keras.preprocessing.text_dataset_from_directory(\n",
        "    'aclImdb/test', \n",
        "    batch_size=batch_size)"
      ],
      "execution_count": 23,
      "outputs": [
        {
          "output_type": "stream",
          "text": [
            "Found 25000 files belonging to 2 classes.\n",
            "Using 5000 files for validation.\n",
            "Found 25000 files belonging to 2 classes.\n"
          ],
          "name": "stdout"
        }
      ]
    },
    {
      "cell_type": "code",
      "metadata": {
        "id": "xeFcHhcaTwUN"
      },
      "source": [
        "#pass each text through text vectporization layer and expand dimension of text \n",
        "\n",
        "train_ds = train_ds.map(vectorize_text)\n",
        "val_ds = val_ds.map(vectorize_text)\n",
        "test_ds = test_ds.map(vectorize_text)"
      ],
      "execution_count": 24,
      "outputs": []
    },
    {
      "cell_type": "code",
      "metadata": {
        "colab": {
          "base_uri": "https://localhost:8080/"
        },
        "id": "k0b40_aqUPsL",
        "outputId": "c8a170ee-195d-4227-b093-206765a0088e"
      },
      "source": [
        "type(train_ds)"
      ],
      "execution_count": 25,
      "outputs": [
        {
          "output_type": "execute_result",
          "data": {
            "text/plain": [
              "tensorflow.python.data.ops.dataset_ops.MapDataset"
            ]
          },
          "metadata": {
            "tags": []
          },
          "execution_count": 25
        }
      ]
    },
    {
      "cell_type": "code",
      "metadata": {
        "id": "fVoQMZ8VUS6c"
      },
      "source": [
        ""
      ],
      "execution_count": 25,
      "outputs": []
    },
    {
      "cell_type": "markdown",
      "metadata": {
        "id": "G9ooeAmkU2FH"
      },
      "source": [
        "## creating model"
      ]
    },
    {
      "cell_type": "code",
      "metadata": {
        "colab": {
          "base_uri": "https://localhost:8080/"
        },
        "id": "JfYSSsFzU9D0",
        "outputId": "742e9bf1-23a4-447d-d30f-58535eb56719"
      },
      "source": [
        "#embedding dimension is generally 4th root of  vocab size\n",
        "embedding_dim = 16\n",
        "\n",
        "#model architecture\n",
        "model = tf.keras.Sequential([\n",
        "  layers.Embedding(max_features + 1, embedding_dim),\n",
        "  layers.Dropout(0.2),\n",
        "  layers.GlobalAveragePooling1D(),\n",
        "  layers.Dropout(0.2),\n",
        "  layers.Dense(1)])\n",
        "\n",
        "model.summary()"
      ],
      "execution_count": 26,
      "outputs": [
        {
          "output_type": "stream",
          "text": [
            "Model: \"sequential\"\n",
            "_________________________________________________________________\n",
            "Layer (type)                 Output Shape              Param #   \n",
            "=================================================================\n",
            "embedding (Embedding)        (None, None, 16)          160016    \n",
            "_________________________________________________________________\n",
            "dropout (Dropout)            (None, None, 16)          0         \n",
            "_________________________________________________________________\n",
            "global_average_pooling1d (Gl (None, 16)                0         \n",
            "_________________________________________________________________\n",
            "dropout_1 (Dropout)          (None, 16)                0         \n",
            "_________________________________________________________________\n",
            "dense (Dense)                (None, 1)                 17        \n",
            "=================================================================\n",
            "Total params: 160,033\n",
            "Trainable params: 160,033\n",
            "Non-trainable params: 0\n",
            "_________________________________________________________________\n"
          ],
          "name": "stdout"
        }
      ]
    },
    {
      "cell_type": "code",
      "metadata": {
        "colab": {
          "base_uri": "https://localhost:8080/"
        },
        "id": "NFeh0Fq1V5pL",
        "outputId": "0363167e-8099-4bda-8d91-312df742aaf6"
      },
      "source": [
        "#loss function and optimizer\n",
        "model.compile(loss=losses.BinaryCrossentropy(from_logits=True),\n",
        "              optimizer='adam',\n",
        "              metrics=tf.metrics.BinaryAccuracy(threshold=0.0))\n",
        "epochs = 10\n",
        "history = model.fit(\n",
        "    train_ds,\n",
        "    validation_data=val_ds,\n",
        "    epochs=epochs)"
      ],
      "execution_count": 27,
      "outputs": [
        {
          "output_type": "stream",
          "text": [
            "Epoch 1/10\n",
            "625/625 [==============================] - 12s 17ms/step - loss: 0.6822 - binary_accuracy: 0.6529 - val_loss: 0.6129 - val_binary_accuracy: 0.7740\n",
            "Epoch 2/10\n",
            "625/625 [==============================] - 11s 17ms/step - loss: 0.5801 - binary_accuracy: 0.7863 - val_loss: 0.4970 - val_binary_accuracy: 0.8232\n",
            "Epoch 3/10\n",
            "625/625 [==============================] - 11s 17ms/step - loss: 0.4688 - binary_accuracy: 0.8390 - val_loss: 0.4199 - val_binary_accuracy: 0.8490\n",
            "Epoch 4/10\n",
            "625/625 [==============================] - 11s 17ms/step - loss: 0.3933 - binary_accuracy: 0.8634 - val_loss: 0.3753 - val_binary_accuracy: 0.8580\n",
            "Epoch 5/10\n",
            "625/625 [==============================] - 10s 17ms/step - loss: 0.3482 - binary_accuracy: 0.8765 - val_loss: 0.3486 - val_binary_accuracy: 0.8656\n",
            "Epoch 6/10\n",
            "625/625 [==============================] - 11s 17ms/step - loss: 0.3146 - binary_accuracy: 0.8843 - val_loss: 0.3293 - val_binary_accuracy: 0.8710\n",
            "Epoch 7/10\n",
            "625/625 [==============================] - 11s 17ms/step - loss: 0.2898 - binary_accuracy: 0.8945 - val_loss: 0.3172 - val_binary_accuracy: 0.8734\n",
            "Epoch 8/10\n",
            "625/625 [==============================] - 10s 17ms/step - loss: 0.2690 - binary_accuracy: 0.9011 - val_loss: 0.3078 - val_binary_accuracy: 0.8766\n",
            "Epoch 9/10\n",
            "625/625 [==============================] - 10s 17ms/step - loss: 0.2500 - binary_accuracy: 0.9083 - val_loss: 0.3011 - val_binary_accuracy: 0.8772\n",
            "Epoch 10/10\n",
            "625/625 [==============================] - 11s 17ms/step - loss: 0.2357 - binary_accuracy: 0.9160 - val_loss: 0.2969 - val_binary_accuracy: 0.8776\n"
          ],
          "name": "stdout"
        }
      ]
    },
    {
      "cell_type": "code",
      "metadata": {
        "colab": {
          "base_uri": "https://localhost:8080/"
        },
        "id": "O_DQdURfYIu1",
        "outputId": "24d1a3bb-6ba4-4a71-9bea-a887c77240e0"
      },
      "source": [
        "loss, accuracy = model.evaluate(test_ds)\n",
        "\n",
        "print(\"Loss: \", loss)\n",
        "print(\"Accuracy: \", accuracy)"
      ],
      "execution_count": 28,
      "outputs": [
        {
          "output_type": "stream",
          "text": [
            "782/782 [==============================] - 9s 11ms/step - loss: 0.3150 - binary_accuracy: 0.8699\n",
            "Loss:  0.31502825021743774\n",
            "Accuracy:  0.869920015335083\n"
          ],
          "name": "stdout"
        }
      ]
    },
    {
      "cell_type": "code",
      "metadata": {
        "colab": {
          "base_uri": "https://localhost:8080/",
          "height": 295
        },
        "id": "u_jx0ofoYMzg",
        "outputId": "2adc1b94-f25e-4de5-bffd-646f93ec9c33"
      },
      "source": [
        "history_dict = history.history\n",
        "history_dict.keys()\n",
        "acc = history_dict['binary_accuracy']\n",
        "val_acc = history_dict['val_binary_accuracy']\n",
        "loss = history_dict['loss']\n",
        "val_loss = history_dict['val_loss']\n",
        "\n",
        "epochs = range(1, len(acc) + 1)\n",
        "\n",
        "# \"bo\" is for \"blue dot\"\n",
        "plt.plot(epochs, loss, 'orange', label='Training loss')\n",
        "# b is for \"solid blue line\"\n",
        "plt.plot(epochs, val_loss, 'b', label='Validation loss')\n",
        "plt.title('Training and validation loss')\n",
        "plt.xlabel('Epochs')\n",
        "plt.ylabel('Loss')\n",
        "plt.legend()\n",
        "\n",
        "plt.show()"
      ],
      "execution_count": 30,
      "outputs": [
        {
          "output_type": "display_data",
          "data": {
            "image/png": "[encoded data removed]",
            "text/plain": [
              "<Figure size 432x288 with 1 Axes>"
            ]
          },
          "metadata": {
            "tags": [],
            "needs_background": "light"
          }
        }
      ]
    },
    {
      "cell_type": "code",
      "metadata": {
        "id": "lGNuJO83Yi-J"
      },
      "source": [
        ""
      ],
      "execution_count": null,
      "outputs": []
    },
    {
      "cell_type": "code",
      "metadata": {
        "id": "nnOOkUByYdul"
      },
      "source": [
        ""
      ],
      "execution_count": null,
      "outputs": []
    }
  ]
}